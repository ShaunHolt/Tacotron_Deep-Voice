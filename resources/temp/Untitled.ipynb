{
 "cells": [
  {
   "cell_type": "code",
   "execution_count": 1,
   "metadata": {},
   "outputs": [],
   "source": [
    "import pandas as pd\n",
    "import os\n",
    "import json\n",
    "import matplotlib.pyplot as plt"
   ]
  },
  {
   "cell_type": "markdown",
   "metadata": {},
   "source": [
    "# Data_name  설정"
   ]
  },
  {
   "cell_type": "code",
   "execution_count": 2,
   "metadata": {},
   "outputs": [],
   "source": [
    "data_name='son'\n",
    "\n",
    "\n",
    "path='D:/parentsvoice_1.13.1/resources/datasets/'+data_name\n",
    "\n",
    "\n",
    "file_list=os.listdir(path+'/meta_static')"
   ]
  },
  {
   "cell_type": "code",
   "execution_count": 3,
   "metadata": {},
   "outputs": [
    {
     "data": {
      "text/plain": [
       "17095"
      ]
     },
     "execution_count": 3,
     "metadata": {},
     "output_type": "execute_result"
    }
   ],
   "source": [
    "len(file_list)"
   ]
  },
  {
   "cell_type": "code",
   "execution_count": 4,
   "metadata": {},
   "outputs": [],
   "source": [
    "class Data():\n",
    "    \n",
    "    \n",
    "    def __init__(self,filename,sentences,train_yn,d_sentences,count_tokens,e_count_tokens,count_leads,count_vowels,count_tails,count_puc):\n",
    "        \n",
    "        # 파일명\n",
    "        self.filename=filename\n",
    "        # 문장\n",
    "        self.sentences=sentences\n",
    "        # 데이터 가용 (train시 사용 여부 ) tokens와 n_frames의 제약 조건\n",
    "        self.train_yn=train_yn\n",
    "        # 상세 문장\n",
    "        self.d_sentences=d_sentences\n",
    "        # 토큰 총 갯수\n",
    "        self.count_tokens=count_tokens\n",
    "        # 토큰 별 갯수\n",
    "        self.e_count_tokens=e_count_tokens\n",
    "        # count 초성\n",
    "        self.count_leads=count_leads\n",
    "        # count 중성\n",
    "        self.count_vowels=count_vowels\n",
    "        # count 종성\n",
    "        self.count_tails=count_tails\n",
    "        # count 특수문자\n",
    "        self.count_puc=count_puc\n",
    "        \n",
    "        \n",
    "        \n",
    "        \n",
    "        "
   ]
  },
  {
   "cell_type": "code",
   "execution_count": 5,
   "metadata": {},
   "outputs": [],
   "source": [
    "data_list=[]\n",
    "\n",
    "for i in file_list:\n",
    "    with open(os.path.join(path,'meta_static',i),encoding='utf-8') as f:\n",
    "        json_data=json.load(f)\n",
    "        # train에 사용되는 데이터만 가져옴\n",
    "        if json_data['데이터 가용']:\n",
    "            data_list.append(\n",
    "                Data(\n",
    "                    json_data['파일명'],json_data['문장'],json_data['데이터 가용'],\n",
    "                    json_data['상세 문장'],json_data['토큰 총 갯수'],json_data['토큰 별 갯수'],\n",
    "                    json_data['초성'],json_data['중성'],json_data['종성'],json_data['특수문자']\n",
    "                ))\n",
    "        "
   ]
  },
  {
   "cell_type": "code",
   "execution_count": 6,
   "metadata": {},
   "outputs": [
    {
     "name": "stdout",
     "output_type": "stream",
     "text": [
      "tokens가 너무 작거나 음성 파일의 크기가 너무 작거나 커서 train에 사용되지 못하는 데이터 갯수와 비율 : 0개 / 0.0 \n"
     ]
    }
   ],
   "source": [
    "# tokens가 너무 작거나 음성 파일의 크기가 너무 작거나 커서 train에 사용되지 못하는 데이터 갯수\n",
    "\n",
    "\n",
    "print('tokens가 너무 작거나 음성 파일의 크기가 너무 작거나 커서 train에 사용되지 못하는 데이터 갯수와 비율 : {}개 / {} ' .format(len(file_list)-len(data_list),((len(file_list)-len(data_list))/len(file_list))*100))"
   ]
  },
  {
   "cell_type": "code",
   "execution_count": 7,
   "metadata": {},
   "outputs": [],
   "source": [
    "def find_max_sentences(list_name):\n",
    "    max_tokens=len(list_name[0].sentences)\n",
    "    for i in list_name:\n",
    "        if len(i.sentences)>=max_tokens:\n",
    "            max_tokens=len(i.sentences)\n",
    "            \n",
    "    return max_tokens\n",
    "        \n",
    "    \n",
    "    "
   ]
  },
  {
   "cell_type": "code",
   "execution_count": 8,
   "metadata": {},
   "outputs": [],
   "source": [
    "def find_max_tokens(list_name):\n",
    "    max_tokens=list_name[0].count_tokens\n",
    "    for i in list_name:\n",
    "        if i.count_tokens>=max_tokens:\n",
    "            max_tokens=i.count_tokens\n",
    "            \n",
    "    return max_tokens\n",
    "        \n",
    "    "
   ]
  },
  {
   "cell_type": "code",
   "execution_count": 9,
   "metadata": {},
   "outputs": [],
   "source": [
    "def count_delete_data(data_list,num):\n",
    "    count=0\n",
    "    \n",
    "    for i in data_list:\n",
    "        if i.count_tokens>=num:\n",
    "            count+=1\n",
    "            \n",
    "#             print(i.filename)\n",
    "            \n",
    "    return count"
   ]
  },
  {
   "cell_type": "code",
   "execution_count": 10,
   "metadata": {},
   "outputs": [
    {
     "data": {
      "text/plain": [
       "199"
      ]
     },
     "execution_count": 10,
     "metadata": {},
     "output_type": "execute_result"
    }
   ],
   "source": [
    "# train_yn중에 max tokens 구하기\n",
    "find_max_tokens(data_list)\n",
    "\n",
    "        "
   ]
  },
  {
   "cell_type": "code",
   "execution_count": 11,
   "metadata": {},
   "outputs": [
    {
     "data": {
      "text/plain": [
       "91"
      ]
     },
     "execution_count": 11,
     "metadata": {},
     "output_type": "execute_result"
    }
   ],
   "source": [
    "find_max_sentences(data_list)"
   ]
  },
  {
   "cell_type": "code",
   "execution_count": 12,
   "metadata": {},
   "outputs": [
    {
     "data": {
      "text/plain": [
       "184"
      ]
     },
     "execution_count": 12,
     "metadata": {},
     "output_type": "execute_result"
    }
   ],
   "source": [
    "count_delete_data(data_list,125)"
   ]
  },
  {
   "cell_type": "code",
   "execution_count": 13,
   "metadata": {},
   "outputs": [
    {
     "data": {
      "text/plain": [
       "17095"
      ]
     },
     "execution_count": 13,
     "metadata": {},
     "output_type": "execute_result"
    }
   ],
   "source": [
    "len(file_list)"
   ]
  },
  {
   "cell_type": "code",
   "execution_count": null,
   "metadata": {},
   "outputs": [],
   "source": []
  },
  {
   "cell_type": "code",
   "execution_count": 14,
   "metadata": {},
   "outputs": [],
   "source": [
    "count_tokens_list=[i.count_tokens for i in data_list ]"
   ]
  },
  {
   "cell_type": "code",
   "execution_count": 15,
   "metadata": {},
   "outputs": [
    {
     "data": {
      "text/plain": [
       "(array([6.879e+03, 5.164e+03, 2.745e+03, 1.361e+03, 6.000e+02, 2.270e+02,\n",
       "        8.200e+01, 2.600e+01, 1.000e+01, 1.000e+00]),\n",
       " array([ 30. ,  46.9,  63.8,  80.7,  97.6, 114.5, 131.4, 148.3, 165.2,\n",
       "        182.1, 199. ]),\n",
       " <a list of 10 Patch objects>)"
      ]
     },
     "execution_count": 15,
     "metadata": {},
     "output_type": "execute_result"
    },
    {
     "data": {
      "image/png": "[encoded data removed]",
      "text/plain": [
       "<Figure size 432x288 with 1 Axes>"
      ]
     },
     "metadata": {
      "needs_background": "light"
     },
     "output_type": "display_data"
    }
   ],
   "source": [
    "plt.hist(count_tokens_list)"
   ]
  },
  {
   "cell_type": "code",
   "execution_count": 31,
   "metadata": {},
   "outputs": [],
   "source": [
    "total_df=pd.DataFrame()"
   ]
  },
  {
   "cell_type": "code",
   "execution_count": 34,
   "metadata": {},
   "outputs": [],
   "source": [
    "data_name_own='son_own_slience_2'\n",
    "\n",
    "\n",
    "path_own='D:/parentsvoice_1.13.1/resources/datasets/'+data_name_own\n",
    "\n",
    "\n",
    "file_list_own=os.listdir(path_own+'/meta_static')\n",
    "\n",
    "data_list_own=[]\n",
    "\n",
    "for i in file_list_own:\n",
    "    with open(os.path.join(path_own,'meta_static',i),encoding='utf-8') as f:\n",
    "        json_data=json.load(f)\n",
    "        total_df=total_df.append(json_data,ignore_index=True)\n",
    "        # train에 사용되는 데이터만 가져옴\n",
    "        '''\n",
    "        if json_data['데이터 가용']:\n",
    "            data_list_own.append(\n",
    "                Data(\n",
    "                    json_data['파일명'],json_data['문장'],json_data['데이터 가용'],\n",
    "                    json_data['상세 문장'],json_data['토큰 총 갯수'],json_data['토큰 별 갯수'],\n",
    "                    json_data['초성'],json_data['중성'],json_data['종성'],json_data['특수문자']\n",
    "                ))\n",
    "        '''\n",
    "        "
   ]
  },
  {
   "cell_type": "code",
   "execution_count": 38,
   "metadata": {},
   "outputs": [],
   "source": [
    "total_df.to_csv(\"son_own_total.csv\",encoding='utf-8-sig')"
   ]
  },
  {
   "cell_type": "code",
   "execution_count": 20,
   "metadata": {},
   "outputs": [
    {
     "data": {
      "text/plain": [
       "20066"
      ]
     },
     "execution_count": 20,
     "metadata": {},
     "output_type": "execute_result"
    }
   ],
   "source": [
    "len(data_list_own)"
   ]
  },
  {
   "cell_type": "code",
   "execution_count": 21,
   "metadata": {},
   "outputs": [],
   "source": [
    "count_tokens_list=[i.count_tokens for i in data_list_own ]"
   ]
  },
  {
   "cell_type": "code",
   "execution_count": 22,
   "metadata": {
    "scrolled": true
   },
   "outputs": [
    {
     "data": {
      "text/plain": [
       "(array([3.379e+03, 7.279e+03, 5.036e+03, 2.827e+03, 9.990e+02, 3.900e+02,\n",
       "        1.110e+02, 3.300e+01, 1.000e+01, 2.000e+00]),\n",
       " array([  3. ,  42.6,  82.2, 121.8, 161.4, 201. , 240.6, 280.2, 319.8,\n",
       "        359.4, 399. ]),\n",
       " <a list of 10 Patch objects>)"
      ]
     },
     "execution_count": 22,
     "metadata": {},
     "output_type": "execute_result"
    },
    {
     "data": {
      "image/png": "[encoded data removed]",
      "text/plain": [
       "<Figure size 432x288 with 1 Axes>"
      ]
     },
     "metadata": {
      "needs_background": "light"
     },
     "output_type": "display_data"
    }
   ],
   "source": [
    "plt.hist(count_tokens_list)"
   ]
  },
  {
   "cell_type": "code",
   "execution_count": 24,
   "metadata": {},
   "outputs": [
    {
     "data": {
      "text/plain": [
       "4082"
      ]
     },
     "execution_count": 24,
     "metadata": {},
     "output_type": "execute_result"
    }
   ],
   "source": [
    "count_delete_data(data_list_own,125)"
   ]
  },
  {
   "cell_type": "markdown",
   "metadata": {},
   "source": [
    "# json to DF"
   ]
  },
  {
   "cell_type": "code",
   "execution_count": 25,
   "metadata": {},
   "outputs": [],
   "source": [
    "# 파일 하나씩 돌며, 한문장씩 dataframd에 추가 \n",
    "\n",
    "total_df=pd.DataFrame()"
   ]
  },
  {
   "cell_type": "code",
   "execution_count": null,
   "metadata": {},
   "outputs": [],
   "source": [
    "for i in data_list_own:\n",
    "    \n",
    "    \n",
    "    json_data['파일명'],json_data['문장'],json_data['데이터 가용'],\n",
    "                    json_data['상세 문장'],json_data['토큰 총 갯수'],json_data['토큰 별 갯수'],\n",
    "                    json_data['초성'],json_data['중성'],json_data['종성'],json_data['특수문자']\n",
    "    "
   ]
  }
 ],
 "metadata": {
  "kernelspec": {
   "display_name": "Python 3",
   "language": "python",
   "name": "python3"
  },
  "language_info": {
   "codemirror_mode": {
    "name": "ipython",
    "version": 3
   },
   "file_extension": ".py",
   "mimetype": "text/x-python",
   "name": "python",
   "nbconvert_exporter": "python",
   "pygments_lexer": "ipython3",
   "version": "3.7.6"
  }
 },
 "nbformat": 4,
 "nbformat_minor": 4
}
